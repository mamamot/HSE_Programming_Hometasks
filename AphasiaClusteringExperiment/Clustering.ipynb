{
 "cells": [
  {
   "cell_type": "markdown",
   "metadata": {},
   "source": [
    "# Кластеризация существительных по левому глагольному контексту\n",
    "Наша гипотеза состоит в том, что мы можем с помощью алгоритма кластеризации найти группы глаголов, которые ведут себя сходным образом. Для ее проверки мы исследуем существительные в подходящих контекстах: биграммы с переходными глаголами и существительными в соответствующих падежах (кроме именительного и предложного) и триграммы с переходными глаголами, предлогом и существительным.\n",
    "\n",
    "## Данные\n",
    "Данные взяты из НКРЯ (поиск по биграммам и триграммам).\n",
    "### Запрос:\n",
    "Обращение к данным происходит путем подстановки леммы в заранее сформированный запрос (см. reference.txt), извлечение данных - с помощью XPath.\n",
    "\n",
    "### Существительные:\n",
    "В качестве леммы в запросе к корпусу использовались существительные, собранные нами из пособий, а также те слова, которые были получены в результате прошлого интерактива.\n",
    "\n",
    "### Выход:\n",
    "Мы получаем данные в виде html-страницы с таблицей, строки которой имеют вид:"
   ]
  },
  {
   "cell_type": "raw",
   "metadata": {},
   "source": [
    "Формат строки в таблице (биграммы):\n",
    "<tr><td align=\"right\">27</td><td align=\"right\">15</td><td align=\"right\">13</td><td width=\"100%\"> <span class=\"b-wrd-expl g-em\" explain=\"%D0%BB%D1%8E%D0%B1%D0%B8%D0%BB%D0%B8%7C134%7C10%7C0%7C0%7C0%7C0%7C0\">любили</span> <span class=\"b-wrd-expl g-em\" explain=\"%D0%BE%D1%82%D1%86%D0%B0%7C1087%7C1%7C0%7C0%7C0%7C0%7C0\">отца</span> </td></tr>\n",
    "Формат строки в таблице (триграммы): \n",
    "<tr><td align=\"right\">4</td><td align=\"right\">45</td><td align=\"right\">36</td><td width=\"100%\"> <span class=\"b-wrd-expl g-em\" explain=\"%D0%B2%D0%B7%D0%B3%D0%BB%D1%8F%D0%BD%D1%83%D0%BB%7C377%7C60%7C0%7C0%7C0%7C0%7C0\">взглянул</span> <span class=\"b-wrd-expl g-em\" explain=\"%D0%BD%D0%B0%7C18%7C1%7C0%7C0%7C0%7C0%7C0\">на</span> <span class=\"b-wrd-expl g-em\" explain=\"%D0%BE%D1%82%D1%86%D0%B0%7C691%7C10%7C0%7C0%7C0%7C0%7C0\">отца</span> </td></tr>\n"
   ]
  },
  {
   "cell_type": "code",
   "execution_count": 11,
   "metadata": {
    "collapsed": true
   },
   "outputs": [],
   "source": [
    "import lxml.html\n",
    "import urllib.request\n",
    "import urllib.error\n",
    "import urllib.parse\n",
    "\n",
    "BIGRAM_LINK =  \"http://search.ruscorpora.ru/search.xml?env=sas1_2&mycorp=&mysent=\" \\\n",
    "               \"&mysize=&mysentsize=&dpp=100&spp=100&spd=100&text=lexgramm&mode=ngrams_2_lexgr&sort=gr_freq&\" \\\n",
    "               \"lang=ru&nodia=1&parent1=0&level1=0&lex1=&gramm1=V%2Ctran&flags1=&parent2=0&level2=0&min2=1\" \\\n",
    "               \"&max2=1&lex2={0}&gramm2=%28gen%7Cgen2%7Cdat%7Cacc%7Cacc2%7Cins%29&flags2=\"\n",
    "TRIGRAM_LINK = \"http://search.ruscorpora.ru/search.xml?env=sas1_2&mycorp=&mysent=\" \\\n",
    "               \"&mysize=&mysentsize=&dpp=100&spp=100&spd=100&text=lexgramm&mode=ngrams_3_lexgr&sort=gr_freq\" \\\n",
    "               \"&lang=ru&nodia=1&parent1=0&level1=0&lex1=&gramm1=V&flags1=&parent2=0&level2=0&min2=1\" \\\n",
    "               \"&max2=1&lex2=&gramm2=PR&flags2=&parent3=0&level3=0&min3=1&max3=1&lex3={0}&gramm3=&flags3=\"\n",
    "\n",
    "agent_name = \"Mozilla/5.0 (Windows NT 6.1) AppleWebKit/537.36 (KHTML, like Gecko) Chrome/41.0.2228.0 Safari/537.36\"\n",
    "            \n",
    "            \n",
    "# загрузка страниц\n",
    "def load_page(url, encoding=\"cp1251\"):\n",
    "    \"\"\"\n",
    "    Простая функция для загрузки страницы с сайта\n",
    "\n",
    "    :param url: URI of the page\n",
    "    :param encoding: page encoding\n",
    "    :return: tuple: a boolean showing success, content of the page (or error message), and http code if available (or 0)\n",
    "    \"\"\"\n",
    "    try:\n",
    "        req = urllib.request.Request(urllib.parse.quote(url, safe=\":/&=?\"), headers={'User-Agent': agent_name})\n",
    "        with urllib.request.urlopen(req) as r:\n",
    "            code = r.getcode()\n",
    "            page = r.read().decode(encoding)\n",
    "            loaded = True\n",
    "    except urllib.error.HTTPError as e:\n",
    "        page = e.reason\n",
    "        code = e.code\n",
    "        loaded = False\n",
    "    except urllib.error.URLError as e:\n",
    "        page = e.reason\n",
    "        code = 0\n",
    "        loaded = False\n",
    "    except Exception as e:\n",
    "        page = str(e)\n",
    "        code = 0\n",
    "        loaded = False\n",
    "    return loaded, page, code\n",
    "\n",
    "def load_words(path):\n",
    "    \"\"\"\n",
    "    Загрузка списка слов\n",
    "    \"\"\"\n",
    "    words = list(\"foo\")\n",
    "    return words\n",
    "\n",
    "def create_link(word, is_trigram=False):\n",
    "    \"\"\"\n",
    "    Создает ссылки на страницы в соответствии с необходимым запросом\n",
    "    \"\"\"\n",
    "    encoded = urllib.parse.quote(word)\n",
    "    if is_trigram:\n",
    "        return TRIGRAM_LINK.format(encoded)\n",
    "    else:\n",
    "        return BIGRAM_LINK.format(encoded)\n",
    "\n",
    "def extract_words_freqs(bi_page, tri_page):\n",
    "    \"\"\"\n",
    "    Извлекает из текста страницы глаголы/глаголы с предлогами и возвращает в виде словаря, где глаголы - ключи, частоты - \n",
    "    значения.\n",
    "    \"\"\"\n",
    "    output = dict()\n",
    "    bi_tree = lxml.html.fromstring(bi_page)\n",
    "    # обходим таблицу на странице по строкам\n",
    "    for tr in bi_tree.iter('tr'):\n",
    "        # прямо в ячейках живут цифры (номер пп. и частотность)\n",
    "        print(str(tr.xpath(\".//td/text()\")))\n",
    "        # в тегах span живут слова\n",
    "        print(str(tr.xpath(\".//td/span/text()\")))\n",
    "    return output\n",
    "\n",
    "def loader(words):\n",
    "    output = dict()\n",
    "    for word in words:\n",
    "        bi_loaded, bi_page, code = load_page(create_link(word, False))\n",
    "        tri_loaded, tri_page, code = load_page(create_link(word, True))\n",
    "        if bi_loaded and tri_loaded:\n",
    "            output[word] = extract_words_freqs(bi_page, tri_page)\n",
    "            \n",
    "        \n",
    "\n"
   ]
  },
  {
   "cell_type": "code",
   "execution_count": 14,
   "metadata": {
    "collapsed": false
   },
   "outputs": [
    {
     "name": "stdout",
     "output_type": "stream",
     "text": [
      "['27', '15', '13', ' ', ' ', ' ']\n",
      "['любили', 'отца']\n"
     ]
    },
    {
     "data": {
      "text/plain": [
       "{}"
      ]
     },
     "execution_count": 14,
     "metadata": {},
     "output_type": "execute_result"
    }
   ],
   "source": [
    "extract_words_freqs('<tr><td align=\"right\">27</td><td align=\"right\">15</td><td align=\"right\">13</td><td width=\"100%\"> <span class=\"b-wrd-expl g-em\" explain=\"%D0%BB%D1%8E%D0%B1%D0%B8%D0%BB%D0%B8%7C134%7C10%7C0%7C0%7C0%7C0%7C0\">любили</span> <span class=\"b-wrd-expl g-em\" explain=\"%D0%BE%D1%82%D1%86%D0%B0%7C1087%7C1%7C0%7C0%7C0%7C0%7C0\">отца</span> </td></tr>', \"\")\n"
   ]
  }
 ],
 "metadata": {
  "kernelspec": {
   "display_name": "Python 3",
   "language": "python",
   "name": "python3"
  },
  "language_info": {
   "codemirror_mode": {
    "name": "ipython",
    "version": 3
   },
   "file_extension": ".py",
   "mimetype": "text/x-python",
   "name": "python",
   "nbconvert_exporter": "python",
   "pygments_lexer": "ipython3",
   "version": "3.5.1"
  }
 },
 "nbformat": 4,
 "nbformat_minor": 0
}
